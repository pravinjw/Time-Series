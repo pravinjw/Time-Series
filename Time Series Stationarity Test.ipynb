{
 "cells": [
  {
   "cell_type": "markdown",
   "id": "f76a45fe",
   "metadata": {},
   "source": [
    "## Time Series Auto Correlation"
   ]
  },
  {
   "cell_type": "markdown",
   "id": "06432b88",
   "metadata": {},
   "source": [
    "## Time Series Stationarity\n",
    "\n",
    "https://www.geeksforgeeks.org/how-to-check-if-time-series-data-is-stationary-with-python/"
   ]
  },
  {
   "cell_type": "code",
   "execution_count": 2,
   "id": "708390e2",
   "metadata": {},
   "outputs": [
    {
     "name": "stderr",
     "output_type": "stream",
     "text": [
      "C:\\Users\\JPravin\\anaconda3\\lib\\site-packages\\scipy\\__init__.py:146: UserWarning: A NumPy version >=1.16.5 and <1.23.0 is required for this version of SciPy (detected version 1.23.0\n",
      "  warnings.warn(f\"A NumPy version >={np_minversion} and <{np_maxversion}\"\n"
     ]
    }
   ],
   "source": [
    "import numpy as np\n",
    "import pandas as pd\n",
    "from time import time\n",
    "from prophet import Prophet\n",
    "from statsmodels.graphics.tsaplots import plot_acf\n",
    "from statsmodels.tsa.stattools import adfuller\n",
    "import warnings\n",
    "warnings.filterwarnings('ignore')"
   ]
  },
  {
   "cell_type": "markdown",
   "id": "d8262bdf",
   "metadata": {},
   "source": [
    "### Air Passanger dataframe is used to check stationarity"
   ]
  },
  {
   "cell_type": "code",
   "execution_count": 5,
   "id": "686767bd",
   "metadata": {
    "scrolled": true
   },
   "outputs": [],
   "source": [
    "df = pd.read_excel(r\"D:\\Coding\\Time Series\\FB Prophet\\HP_FN.xlsx\", header=0, index_col=0)\n",
    "#df = df.T\n",
    "values = df.values  # Create array"
   ]
  },
  {
   "cell_type": "code",
   "execution_count": 7,
   "id": "a7a56797",
   "metadata": {},
   "outputs": [
    {
     "data": {
      "text/plain": [
       "array([[34956],\n",
       "       [58314],\n",
       "       [59735],\n",
       "       [48321],\n",
       "       [44602],\n",
       "       [42084],\n",
       "       [38769],\n",
       "       [32651],\n",
       "       [36386],\n",
       "       [42581],\n",
       "       [37788],\n",
       "       [55543],\n",
       "       [38065],\n",
       "       [47616],\n",
       "       [49865],\n",
       "       [45183],\n",
       "       [41679],\n",
       "       [39703],\n",
       "       [43488],\n",
       "       [35526],\n",
       "       [41874],\n",
       "       [38618],\n",
       "       [41297],\n",
       "       [53212],\n",
       "       [55417],\n",
       "       [60198],\n",
       "       [68565],\n",
       "       [54934],\n",
       "       [49305],\n",
       "       [43761],\n",
       "       [39326],\n",
       "       [30129],\n",
       "       [36749],\n",
       "       [43038],\n",
       "       [38034],\n",
       "       [52279],\n",
       "       [60243],\n",
       "       [62260],\n",
       "       [66793],\n",
       "       [67690],\n",
       "       [67352],\n",
       "       [52589],\n",
       "       [60630],\n",
       "       [43449],\n",
       "       [53932],\n",
       "       [36773],\n",
       "       [34984],\n",
       "       [50246]], dtype=int64)"
      ]
     },
     "execution_count": 7,
     "metadata": {},
     "output_type": "execute_result"
    }
   ],
   "source": [
    "values"
   ]
  },
  {
   "cell_type": "markdown",
   "id": "befa990c",
   "metadata": {},
   "source": [
    "### Statistical Test\n",
    "\n",
    "A common assumption in many time series techniques is that the data are stationary. A stationary process has the property that the mean, variance and autocorrelation structure do not change over time.\n",
    "\n",
    "In order to check this assumptions, divide the dataset into parts and calculate the mean, variance of each part and compare. If \n",
    "mean and variance of three parts are almost same, then time series is stationary."
   ]
  },
  {
   "cell_type": "code",
   "execution_count": 8,
   "id": "5e0fd6b0",
   "metadata": {
    "scrolled": true
   },
   "outputs": [],
   "source": [
    "# Divide the dataset into 3 parts and findout mean and variance\n",
    "\n",
    "parts = int(values.shape[0]/3)\n",
    "\n",
    "part_1, part_2, part_3 = values[0:parts], values[parts:(parts*2)], values[(parts*2):(parts*3)]\n",
    "\n",
    "# Calculate the mean and variance of 3 parts\n",
    "\n",
    "mean_1, mean_2, mean_3 = part_1.mean().round(), part_2.mean().round(), part_3.mean().round()\n",
    "\n",
    "var_1, var_2, var_3 = part_1.var().round(), part_2.var().round(), part_3.var().round()"
   ]
  },
  {
   "cell_type": "code",
   "execution_count": 9,
   "id": "f4f80e5c",
   "metadata": {},
   "outputs": [
    {
     "name": "stdout",
     "output_type": "stream",
     "text": [
      "mean1=44529.000000, mean2=46064.000000, mean2=51690.000000\n",
      "variance1=64036500.000000, variance2=94471637.000000, variance2=128535394.000000\n"
     ]
    }
   ],
   "source": [
    "# printing the mean of three groups\n",
    "print('mean1=%f, mean2=%f, mean2=%f' % (mean_1, mean_2, mean_3))\n",
    " \n",
    "# printing the variance of three groups\n",
    "print('variance1=%f, variance2=%f, variance2=%f' % (var_1, var_2, var_3))"
   ]
  },
  {
   "cell_type": "markdown",
   "id": "efb5820b",
   "metadata": {},
   "source": [
    "### Augmented Dickey-Fuller test\n",
    "\n",
    "This is a statistical test that is dedicatedly built to test whether univariate time series data is stationary or not. This test is based on a hypothesis and can tell us the degree of probability to which it can be accepted. It is often classified under one of the unit root tests, It determines how strongly, a univariate time series data follows a trend. Let’s define the null and alternate hypotheses,\n",
    "\n",
    "Ho (Null Hypothesis): The time series data is non-stationary\n",
    "\n",
    "H1 (alternate Hypothesis): The time series data is stationary\n",
    "\n",
    "\n",
    "Assume alpha = 0.05, meaning (95% confidence). The test results are interpreted with a p-value if p > 0.05 time series data is non stationary, else if p <= 0.05 time series data is stationary. "
   ]
  },
  {
   "cell_type": "code",
   "execution_count": 10,
   "id": "f63b2ab3",
   "metadata": {},
   "outputs": [
    {
     "name": "stdout",
     "output_type": "stream",
     "text": [
      "Augmneted Dickey_fuller Statistic: -3.884664\n",
      "p-value: 0.002151\n",
      "critical values at different levels:\n",
      "\t1%: -3.589\n",
      "\t5%: -2.930\n",
      "\t10%: -2.603\n"
     ]
    }
   ],
   "source": [
    "# extracting only the passengers count using values function\n",
    "\n",
    "res = adfuller(values)\n",
    " \n",
    "# Printing the statistical result of the adfuller test\n",
    "print('Augmneted Dickey_fuller Statistic: %f' % res[0])\n",
    "print('p-value: %f' % res[1])\n",
    " \n",
    "# printing the critical values at different alpha levels.\n",
    "print('critical values at different levels:')\n",
    "for k, v in res[4].items():\n",
    "    print('\\t%s: %.3f' % (k, v))"
   ]
  },
  {
   "cell_type": "markdown",
   "id": "d2931631",
   "metadata": {},
   "source": [
    "the p-value is much greater than 0.05 which signifies, we can fail to reject the null hypothesis at 90%, 95%, and 99% confidence, meaning the time series data is strongly non-stationary. "
   ]
  },
  {
   "cell_type": "code",
   "execution_count": null,
   "id": "d6114712",
   "metadata": {},
   "outputs": [],
   "source": [
    "df"
   ]
  },
  {
   "cell_type": "code",
   "execution_count": null,
   "id": "414e8a26",
   "metadata": {},
   "outputs": [],
   "source": []
  }
 ],
 "metadata": {
  "kernelspec": {
   "display_name": "Python 3 (ipykernel)",
   "language": "python",
   "name": "python3"
  },
  "language_info": {
   "codemirror_mode": {
    "name": "ipython",
    "version": 3
   },
   "file_extension": ".py",
   "mimetype": "text/x-python",
   "name": "python",
   "nbconvert_exporter": "python",
   "pygments_lexer": "ipython3",
   "version": "3.9.12"
  }
 },
 "nbformat": 4,
 "nbformat_minor": 5
}
